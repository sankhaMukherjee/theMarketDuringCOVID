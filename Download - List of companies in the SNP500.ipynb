{
 "cells": [
  {
   "cell_type": "code",
   "execution_count": 1,
   "metadata": {
    "ExecuteTime": {
     "end_time": "2020-08-13T17:01:56.394674Z",
     "start_time": "2020-08-13T17:01:56.327043Z"
    }
   },
   "outputs": [],
   "source": [
    "import financeMacroFactors as fM\n",
    "import json"
   ]
  },
  {
   "cell_type": "markdown",
   "metadata": {},
   "source": [
    "# Downloading S&P 500 Companies\n",
    "\n",
    "This Notebook shall describe how the list of companies in the SNP500 can be downloaded. This needs to be done only onece. The SNP500 companies typically do not change for long periods of time.\n",
    "\n",
    "The list of companies can be directly downloaded and saved in the file `data/companies.json` using the following command:"
   ]
  },
  {
   "cell_type": "code",
   "execution_count": 2,
   "metadata": {
    "ExecuteTime": {
     "end_time": "2020-08-13T17:04:48.760595Z",
     "start_time": "2020-08-13T17:04:48.096149Z"
    }
   },
   "outputs": [],
   "source": [
    "json.dump( fM.companies.getSNP500CompanyList(), open('data/companies.json', 'w') )"
   ]
  },
  {
   "cell_type": "markdown",
   "metadata": {},
   "source": [
    "# Accessing the Data\n",
    "\n",
    "Once the data is downloaded, it is possible to access the data directly. The following examples shall show you how to access the data:"
   ]
  },
  {
   "cell_type": "code",
   "execution_count": 3,
   "metadata": {
    "ExecuteTime": {
     "end_time": "2020-08-13T17:06:39.050054Z",
     "start_time": "2020-08-13T17:06:39.046399Z"
    }
   },
   "outputs": [],
   "source": [
    "companies = json.load(open('data/companies.json'))"
   ]
  },
  {
   "cell_type": "code",
   "execution_count": 5,
   "metadata": {
    "ExecuteTime": {
     "end_time": "2020-08-13T17:06:57.705281Z",
     "start_time": "2020-08-13T17:06:57.697215Z"
    }
   },
   "outputs": [
    {
     "data": {
      "text/plain": [
       "[{'Symbol': 'MMM',\n",
       "  'Security': '3M Company',\n",
       "  'SEC filings': 'reports',\n",
       "  'GICS Sector': 'Industrials',\n",
       "  'GICS Sub Industry': 'Industrial Conglomerates',\n",
       "  'Headquarters Location': 'St. Paul, Minnesota',\n",
       "  'Date first added': '1976-08-09',\n",
       "  'CIK': '0000066740',\n",
       "  'Founded': '1902'},\n",
       " {'Symbol': 'ABT',\n",
       "  'Security': 'Abbott Laboratories',\n",
       "  'SEC filings': 'reports',\n",
       "  'GICS Sector': 'Health Care',\n",
       "  'GICS Sub Industry': 'Health Care Equipment',\n",
       "  'Headquarters Location': 'North Chicago, Illinois',\n",
       "  'Date first added': '1964-03-31',\n",
       "  'CIK': '0000001800',\n",
       "  'Founded': '1888'},\n",
       " {'Symbol': 'ABBV',\n",
       "  'Security': 'AbbVie Inc.',\n",
       "  'SEC filings': 'reports',\n",
       "  'GICS Sector': 'Health Care',\n",
       "  'GICS Sub Industry': 'Pharmaceuticals',\n",
       "  'Headquarters Location': 'North Chicago, Illinois',\n",
       "  'Date first added': '2012-12-31',\n",
       "  'CIK': '0001551152',\n",
       "  'Founded': '2013 (1888)'}]"
      ]
     },
     "execution_count": 5,
     "metadata": {},
     "output_type": "execute_result"
    }
   ],
   "source": [
    "companies[:3]"
   ]
  },
  {
   "cell_type": "markdown",
   "metadata": {},
   "source": [
    "Since this is a list of dictionaries, it should be relatively easy to extract the lost of ticker symbols:"
   ]
  },
  {
   "cell_type": "code",
   "execution_count": 7,
   "metadata": {
    "ExecuteTime": {
     "end_time": "2020-08-13T17:09:25.631959Z",
     "start_time": "2020-08-13T17:09:25.628844Z"
    }
   },
   "outputs": [
    {
     "data": {
      "text/plain": [
       "'MMM, ABT, ABBV, ABMD, ACN, ATVI, ADBE, AMD, AAP, AES, AFL, A, APD, AKAM, ALK, ALB, ARE, ALXN, ALGN, ALLE, LNT, ALL, GOOGL, GOOG, MO, AMZN, AMCR, AEE, AAL, AEP, AXP, AIG, AMT, AWK, AMP, ABC, AME, AMGN, APH, ADI, ANSS, ANTM, AON, AOS, APA, AIV, AAPL, AMAT, APTV, ADM, ANET, AJG, AIZ, T, ATO, ADSK, ADP, AZO, AVB, AVY, BKR, BLL, BAC, BK, BAX, BDX, BRK.B, BBY, BIO, BIIB, BLK, BA, BKNG, BWA, BXP, BSX, BMY, AVGO, BR, BF.B, CHRW, COG, CDNS, CPB, COF, CAH, KMX, CCL, CARR, CAT, CBOE, CBRE, CDW, CE, CNC, CNP, CTL, CERN, CF, SCHW, CHTR, CVX, CMG, CB, CHD, CI, CINF, CTAS, CSCO, C, CFG, CTXS, CLX, CME, CMS, KO, CTSH, CL, CMCSA, CMA, CAG, CXO, COP, ED, STZ, COO, CPRT, GLW, CTVA, COST, COTY, CCI, CSX, CMI, CVS, DHI, DHR, DRI, DVA, DE, DAL, XRAY, DVN, DXCM, FANG, DLR, DFS, DISCA, DISCK, DISH, DG, DLTR, D, DPZ, DOV, DOW, DTE, DUK, DRE, DD, DXC, ETFC, EMN, ETN, EBAY, ECL, EIX, EW, EA, EMR, ETR, EOG, EFX, EQIX, EQR, ESS, EL, EVRG, ES, RE, EXC, EXPE, EXPD, EXR, XOM, FFIV, FB, FAST, FRT, FDX, FIS, FITB, FE, FRC, FISV, FLT, FLIR, FLS, FMC, F, FTNT, FTV, FBHS, FOXA, FOX, BEN, FCX, GPS, GRMN, IT, GD, GE, GIS, GM, GPC, GILD, GL, GPN, GS, GWW, HRB, HAL, HBI, HIG, HAS, HCA, PEAK, HSIC, HSY, HES, HPE, HLT, HFC, HOLX, HD, HON, HRL, HST, HWM, HPQ, HUM, HBAN, HII, IEX, IDXX, INFO, ITW, ILMN, INCY, IR, INTC, ICE, IBM, IP, IPG, IFF, INTU, ISRG, IVZ, IPGP, IQV, IRM, JKHY, J, JBHT, SJM, JNJ, JCI, JPM, JNPR, KSU, K, KEY, KEYS, KMB, KIM, KMI, KLAC, KSS, KHC, KR, LB, LHX, LH, LRCX, LW, LVS, LEG, LDOS, LEN, LLY, LNC, LIN, LYV, LKQ, LMT, L, LOW, LYB, MTB, MRO, MPC, MKTX, MAR, MMC, MLM, MAS, MA, MKC, MXIM, MCD, MCK, MDT, MRK, MET, MTD, MGM, MCHP, MU, MSFT, MAA, MHK, TAP, MDLZ, MNST, MCO, MS, MOS, MSI, MSCI, MYL, NDAQ, NOV, NTAP, NFLX, NWL, NEM, NWSA, NWS, NEE, NLSN, NKE, NI, NBL, NSC, NTRS, NOC, NLOK, NCLH, NRG, NUE, NVDA, NVR, ORLY, OXY, ODFL, OMC, OKE, ORCL, OTIS, PCAR, PKG, PH, PAYX, PAYC, PYPL, PNR, PBCT, PEP, PKI, PRGO, PFE, PM, PSX, PNW, PXD, PNC, PPG, PPL, PFG, PG, PGR, PLD, PRU, PEG, PSA, PHM, PVH, QRVO, PWR, QCOM, DGX, RL, RJF, RTX, O, REG, REGN, RF, RSG, RMD, RHI, ROK, ROL, ROP, ROST, RCL, SPGI, CRM, SBAC, SLB, STX, SEE, SRE, NOW, SHW, SPG, SWKS, SLG, SNA, SO, LUV, SWK, SBUX, STT, STE, SYK, SIVB, SYF, SNPS, SYY, TMUS, TROW, TTWO, TPR, TGT, TEL, FTI, TDY, TFX, TXN, TXT, TMO, TIF, TJX, TSCO, TT, TDG, TRV, TFC, TWTR, TYL, TSN, UDR, ULTA, USB, UAA, UA, UNP, UAL, UNH, UPS, URI, UHS, UNM, VFC, VLO, VAR, VTR, VRSN, VRSK, VZ, VRTX, VIAC, V, VNO, VMC, WRB, WAB, WMT, WBA, DIS, WM, WAT, WEC, WFC, WELL, WST, WDC, WU, WRK, WY, WHR, WMB, WLTW, WYNN, XEL, XRX, XLNX, XYL, YUM, ZBRA, ZBH, ZION, ZTS'"
      ]
     },
     "execution_count": 7,
     "metadata": {},
     "output_type": "execute_result"
    }
   ],
   "source": [
    "', '.join([c['Symbol'] for c in companies])"
   ]
  },
  {
   "cell_type": "markdown",
   "metadata": {},
   "source": [
    "or, a list of sectors:"
   ]
  },
  {
   "cell_type": "code",
   "execution_count": 13,
   "metadata": {
    "ExecuteTime": {
     "end_time": "2020-08-13T17:11:53.318122Z",
     "start_time": "2020-08-13T17:11:53.314912Z"
    }
   },
   "outputs": [
    {
     "name": "stdout",
     "output_type": "stream",
     "text": [
      "Communication Services\n",
      "Consumer Discretionary\n",
      "Consumer Staples\n",
      "Energy\n",
      "Financials\n",
      "Health Care\n",
      "Industrials\n",
      "Information Technology\n",
      "Materials\n",
      "Real Estate\n",
      "Utilities\n"
     ]
    }
   ],
   "source": [
    "print('\\n'.join(sorted(list(set([c['GICS Sector'] for c in companies])))))"
   ]
  },
  {
   "cell_type": "code",
   "execution_count": null,
   "metadata": {},
   "outputs": [],
   "source": []
  },
  {
   "cell_type": "code",
   "execution_count": null,
   "metadata": {},
   "outputs": [],
   "source": []
  }
 ],
 "metadata": {
  "hide_input": false,
  "kernelspec": {
   "display_name": "Python 3",
   "language": "python",
   "name": "python3"
  },
  "language_info": {
   "codemirror_mode": {
    "name": "ipython",
    "version": 3
   },
   "file_extension": ".py",
   "mimetype": "text/x-python",
   "name": "python",
   "nbconvert_exporter": "python",
   "pygments_lexer": "ipython3",
   "version": "3.8.2"
  },
  "toc": {
   "base_numbering": 1,
   "nav_menu": {},
   "number_sections": true,
   "sideBar": true,
   "skip_h1_title": false,
   "title_cell": "Table of Contents",
   "title_sidebar": "Contents",
   "toc_cell": false,
   "toc_position": {},
   "toc_section_display": true,
   "toc_window_display": false
  }
 },
 "nbformat": 4,
 "nbformat_minor": 4
}
